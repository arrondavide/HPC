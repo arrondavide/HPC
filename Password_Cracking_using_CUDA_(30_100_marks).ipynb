{
  "nbformat": 4,
  "nbformat_minor": 0,
  "metadata": {
    "colab": {
      "provenance": [],
      "gpuType": "T4"
    },
    "kernelspec": {
      "name": "python3",
      "display_name": "Python 3"
    },
    "language_info": {
      "name": "python"
    },
    "accelerator": "GPU"
  },
  "cells": [
    {
      "cell_type": "code",
      "source": [
        "!nvcc --version"
      ],
      "metadata": {
        "colab": {
          "base_uri": "https://localhost:8080/"
        },
        "id": "uch7CpwZAt70",
        "outputId": "55c0ffe2-9c67-4b2d-f823-19aeb4b9aec6"
      },
      "execution_count": 2,
      "outputs": [
        {
          "output_type": "stream",
          "name": "stdout",
          "text": [
            "nvcc: NVIDIA (R) Cuda compiler driver\n",
            "Copyright (c) 2005-2023 NVIDIA Corporation\n",
            "Built on Tue_Aug_15_22:02:13_PDT_2023\n",
            "Cuda compilation tools, release 12.2, V12.2.140\n",
            "Build cuda_12.2.r12.2/compiler.33191640_0\n"
          ]
        }
      ]
    },
    {
      "cell_type": "code",
      "source": [
        "!pip install git+https://github.com/andreinechaev/nvcc4jupyter.git"
      ],
      "metadata": {
        "colab": {
          "base_uri": "https://localhost:8080/"
        },
        "id": "oUDPHHhLAz0l",
        "outputId": "d5da0c26-0169-4349-a967-8c16ee0a4763"
      },
      "execution_count": 3,
      "outputs": [
        {
          "output_type": "stream",
          "name": "stdout",
          "text": [
            "Collecting git+https://github.com/andreinechaev/nvcc4jupyter.git\n",
            "  Cloning https://github.com/andreinechaev/nvcc4jupyter.git to /tmp/pip-req-build-l0iiz14s\n",
            "  Running command git clone --filter=blob:none --quiet https://github.com/andreinechaev/nvcc4jupyter.git /tmp/pip-req-build-l0iiz14s\n",
            "  Resolved https://github.com/andreinechaev/nvcc4jupyter.git to commit 28f872a2f99a1b201bcd0db14fdbc5a496b9bfd7\n",
            "  Installing build dependencies ... \u001b[?25l\u001b[?25hdone\n",
            "  Getting requirements to build wheel ... \u001b[?25l\u001b[?25hdone\n",
            "  Preparing metadata (pyproject.toml) ... \u001b[?25l\u001b[?25hdone\n",
            "Building wheels for collected packages: nvcc4jupyter\n",
            "  Building wheel for nvcc4jupyter (pyproject.toml) ... \u001b[?25l\u001b[?25hdone\n",
            "  Created wheel for nvcc4jupyter: filename=nvcc4jupyter-1.2.1-py3-none-any.whl size=10743 sha256=3a570d3ab74e9051a615aa78d54722c78a69a0c83a1d407fccde14c37a30e96c\n",
            "  Stored in directory: /tmp/pip-ephem-wheel-cache-wyjm72w1/wheels/a8/b9/18/23f8ef71ceb0f63297dd1903aedd067e6243a68ea756d6feea\n",
            "Successfully built nvcc4jupyter\n",
            "Installing collected packages: nvcc4jupyter\n",
            "Successfully installed nvcc4jupyter-1.2.1\n"
          ]
        }
      ]
    },
    {
      "cell_type": "code",
      "source": [
        "!pip install nvcc4jupyter\n",
        "%load_ext nvcc4jupyter"
      ],
      "metadata": {
        "colab": {
          "base_uri": "https://localhost:8080/"
        },
        "id": "OIsWG2hJA1wC",
        "outputId": "12b13b74-0a16-4cc8-f59e-5e578eacdc1e"
      },
      "execution_count": 4,
      "outputs": [
        {
          "output_type": "stream",
          "name": "stdout",
          "text": [
            "Requirement already satisfied: nvcc4jupyter in /usr/local/lib/python3.10/dist-packages (1.2.1)\n",
            "Detected platform \"Colab\". Running its setup...\n",
            "Source files will be saved in \"/tmp/tmp3_lya20b\".\n"
          ]
        }
      ]
    },
    {
      "cell_type": "code",
      "source": [
        "!nvidia-smi"
      ],
      "metadata": {
        "colab": {
          "base_uri": "https://localhost:8080/"
        },
        "id": "FTRzqkgZA3xn",
        "outputId": "bb987de0-9547-4363-bbe7-16d5e751ae0b"
      },
      "execution_count": 5,
      "outputs": [
        {
          "output_type": "stream",
          "name": "stdout",
          "text": [
            "Thu Oct 17 19:45:32 2024       \n",
            "+---------------------------------------------------------------------------------------+\n",
            "| NVIDIA-SMI 535.104.05             Driver Version: 535.104.05   CUDA Version: 12.2     |\n",
            "|-----------------------------------------+----------------------+----------------------+\n",
            "| GPU  Name                 Persistence-M | Bus-Id        Disp.A | Volatile Uncorr. ECC |\n",
            "| Fan  Temp   Perf          Pwr:Usage/Cap |         Memory-Usage | GPU-Util  Compute M. |\n",
            "|                                         |                      |               MIG M. |\n",
            "|=========================================+======================+======================|\n",
            "|   0  Tesla T4                       Off | 00000000:00:04.0 Off |                    0 |\n",
            "| N/A   47C    P8               9W /  70W |      0MiB / 15360MiB |      0%      Default |\n",
            "|                                         |                      |                  N/A |\n",
            "+-----------------------------------------+----------------------+----------------------+\n",
            "                                                                                         \n",
            "+---------------------------------------------------------------------------------------+\n",
            "| Processes:                                                                            |\n",
            "|  GPU   GI   CI        PID   Type   Process name                            GPU Memory |\n",
            "|        ID   ID                                                             Usage      |\n",
            "|=======================================================================================|\n",
            "|  No running processes found                                                           |\n",
            "+---------------------------------------------------------------------------------------+\n"
          ]
        }
      ]
    },
    {
      "cell_type": "code",
      "execution_count": 44,
      "metadata": {
        "colab": {
          "base_uri": "https://localhost:8080/"
        },
        "id": "xk5nXi6n_9P_",
        "outputId": "7a2b2c61-4389-4275-981a-05046fb41634"
      },
      "outputs": [
        {
          "output_type": "stream",
          "name": "stdout",
          "text": [
            "Overwriting password_crack.cu\n"
          ]
        }
      ],
      "source": [
        "# Save the code into a .cu file\n",
        "%%writefile password_crack.cu\n",
        "#include <stdio.h>\n",
        "#include <cuda.h>\n",
        "\n",
        "// Custom strcmp implementation for device code\n",
        "__device__ int device_strcmp(const char* str1, const char* str2) {\n",
        "    int i = 0;\n",
        "    while (str1[i] != '\\0' && str2[i] != '\\0') {\n",
        "        if (str1[i] != str2[i]) {\n",
        "            return 1; // Strings are different\n",
        "        }\n",
        "        i++;\n",
        "    }\n",
        "    // If both strings end at the same time, they are equal\n",
        "    if (str1[i] == '\\0' && str2[i] == '\\0') {\n",
        "        return 0;\n",
        "    }\n",
        "    return 1; // Strings are different in length\n",
        "}\n",
        "\n",
        "__device__ void CudaCrypt(const char* rawPassword, char* newPassword) {\n",
        "    newPassword[0] = rawPassword[0] + 2;\n",
        "    newPassword[1] = rawPassword[0] - 2;\n",
        "    newPassword[2] = rawPassword[0] + 1;\n",
        "    newPassword[3] = rawPassword[1] + 3;\n",
        "    newPassword[4] = rawPassword[1] - 3;\n",
        "    newPassword[5] = rawPassword[1] - 1;\n",
        "    newPassword[6] = rawPassword[2] + 2;\n",
        "    newPassword[7] = rawPassword[2] - 2;\n",
        "    newPassword[8] = rawPassword[3] + 4;\n",
        "    newPassword[9] = rawPassword[3] - 4;\n",
        "    newPassword[10] = '\\0';\n",
        "\n",
        "    for (int i = 0; i < 10; i++) {\n",
        "        if (i < 6) {  // Handle letters\n",
        "            if (newPassword[i] > 122) {\n",
        "                newPassword[i] = (newPassword[i] - 122) + 97;\n",
        "            } else if (newPassword[i] < 97) {\n",
        "                newPassword[i] = (97 - newPassword[i]) + 97;\n",
        "            }\n",
        "        } else {  // Handle digits\n",
        "            if (newPassword[i] > 57) {\n",
        "                newPassword[i] = (newPassword[i] - 57) + 48;\n",
        "            } else if (newPassword[i] < 48) {\n",
        "                newPassword[i] = (48 - newPassword[i]) + 48;\n",
        "            }\n",
        "        }\n",
        "    }\n",
        "}\n",
        "\n",
        "// Kernel to encrypt the original password\n",
        "__global__ void encryptPassword(const char* originalPassword, char* targetPassword) {\n",
        "    CudaCrypt(originalPassword, targetPassword);\n",
        "}\n",
        "\n",
        "__global__ void crack(const char* targetPassword, char* result) {\n",
        "    char possiblePassword[5];  // 2 letters, 2 digits + '\\0'\n",
        "    possiblePassword[4] = '\\0';  // Null terminator\n",
        "\n",
        "    // Generate password based on thread/block indices\n",
        "    possiblePassword[0] = 'a' + blockIdx.x;  // First letter\n",
        "    possiblePassword[1] = 'a' + blockIdx.y;  // Second letter\n",
        "    possiblePassword[2] = '0' + threadIdx.x; // First digit\n",
        "    possiblePassword[3] = '0' + threadIdx.y; // Second digit\n",
        "\n",
        "    // Encrypt the possible password using the device version of CudaCrypt\n",
        "    char encryptedPassword[11];\n",
        "    CudaCrypt(possiblePassword, encryptedPassword); // Encrypt password\n",
        "\n",
        "    // Compare with the target encrypted password\n",
        "    if (device_strcmp(encryptedPassword, targetPassword) == 0) {\n",
        "        // If match found, copy password to result\n",
        "        for (int i = 0; i < 4; i++) {\n",
        "            result[i] = possiblePassword[i];\n",
        "        }\n",
        "        result[4] = '\\0';  // Null terminate the result\n",
        "    }\n",
        "}\n",
        "\n",
        "int main(int argc, char **argv) {\n",
        "    // Set the original password (to be encrypted)\n",
        "    const char* originalPassword = \"hp93\"; // The original password to crack\n",
        "    char targetPassword[11]; // Buffer for the target encrypted password\n",
        "\n",
        "    // Allocate memory on GPU for the original password\n",
        "    char* d_originalPassword;\n",
        "    cudaMalloc((void**)&d_originalPassword, sizeof(char) * 5);  // 4 chars + '\\0'\n",
        "    cudaMemcpy(d_originalPassword, originalPassword, sizeof(char) * 5, cudaMemcpyHostToDevice);\n",
        "\n",
        "    // Allocate memory on GPU for the target password\n",
        "    char* d_targetPassword;\n",
        "    cudaMalloc((void**)&d_targetPassword, sizeof(targetPassword));\n",
        "\n",
        "    // Encrypt the original password on the GPU\n",
        "    encryptPassword<<<1, 1>>>(d_originalPassword, d_targetPassword);\n",
        "    cudaDeviceSynchronize();\n",
        "\n",
        "    // Allocate memory for result on the GPU\n",
        "    char* d_result;\n",
        "    cudaMalloc((void**)&d_result, sizeof(char) * 5);  // 4 chars + '\\0'\n",
        "\n",
        "    // Launch kernel with a 2D grid of 26x26 blocks for letters and 10x10 threads for digits\n",
        "    dim3 numBlocks(26, 26);  // 26 letters in each axis\n",
        "    dim3 numThreads(10, 10); // 10 digits in each axis\n",
        "\n",
        "    crack<<<numBlocks, numThreads>>>(d_targetPassword, d_result);\n",
        "\n",
        "    // Wait for kernel to finish\n",
        "    cudaDeviceSynchronize();\n",
        "\n",
        "    // Copy result back to host\n",
        "    char result[5];\n",
        "    cudaMemcpy(result, d_result, sizeof(char) * 5, cudaMemcpyDeviceToHost);\n",
        "\n",
        "    // Print the decrypted password\n",
        "    if (result[0] != '\\0') {\n",
        "        printf(\"Password found: %s\\n\", result);\n",
        "    } else {\n",
        "        printf(\"Password not found.\\n\");\n",
        "    }\n",
        "\n",
        "    // Free memory on GPU\n",
        "    cudaFree(d_originalPassword);\n",
        "    cudaFree(d_targetPassword);\n",
        "    cudaFree(d_result);\n",
        "\n",
        "    return 0;\n",
        "}\n"
      ]
    },
    {
      "cell_type": "code",
      "source": [
        "!nvcc password_crack.cu -o password_crack\n",
        "!./password_crack\n"
      ],
      "metadata": {
        "colab": {
          "base_uri": "https://localhost:8080/"
        },
        "id": "msdw3bHzAgLp",
        "outputId": "5bd567a4-03db-40cf-905a-2b1896577c93"
      },
      "execution_count": 45,
      "outputs": [
        {
          "output_type": "stream",
          "name": "stdout",
          "text": [
            "Password found: hp93\n"
          ]
        }
      ]
    }
  ]
}