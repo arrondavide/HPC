{
  "nbformat": 4,
  "nbformat_minor": 0,
  "metadata": {
    "colab": {
      "provenance": [],
      "gpuType": "T4"
    },
    "kernelspec": {
      "name": "python3",
      "display_name": "Python 3"
    },
    "language_info": {
      "name": "python"
    },
    "accelerator": "GPU"
  },
  "cells": [
    {
      "cell_type": "code",
      "source": [
        "!nvcc --version"
      ],
      "metadata": {
        "colab": {
          "base_uri": "https://localhost:8080/"
        },
        "id": "uch7CpwZAt70",
        "outputId": "57f04abd-57da-4d6b-943b-45bf7719a34a"
      },
      "execution_count": 1,
      "outputs": [
        {
          "output_type": "stream",
          "name": "stdout",
          "text": [
            "nvcc: NVIDIA (R) Cuda compiler driver\n",
            "Copyright (c) 2005-2023 NVIDIA Corporation\n",
            "Built on Tue_Aug_15_22:02:13_PDT_2023\n",
            "Cuda compilation tools, release 12.2, V12.2.140\n",
            "Build cuda_12.2.r12.2/compiler.33191640_0\n"
          ]
        }
      ]
    },
    {
      "cell_type": "code",
      "source": [
        "!pip install git+https://github.com/andreinechaev/nvcc4jupyter.git"
      ],
      "metadata": {
        "colab": {
          "base_uri": "https://localhost:8080/"
        },
        "id": "oUDPHHhLAz0l",
        "outputId": "2b3e3a4b-ecbb-4f43-fa80-069679e9c051"
      },
      "execution_count": 2,
      "outputs": [
        {
          "output_type": "stream",
          "name": "stdout",
          "text": [
            "Collecting git+https://github.com/andreinechaev/nvcc4jupyter.git\n",
            "  Cloning https://github.com/andreinechaev/nvcc4jupyter.git to /tmp/pip-req-build-cfj7bs1w\n",
            "  Running command git clone --filter=blob:none --quiet https://github.com/andreinechaev/nvcc4jupyter.git /tmp/pip-req-build-cfj7bs1w\n",
            "  Resolved https://github.com/andreinechaev/nvcc4jupyter.git to commit 28f872a2f99a1b201bcd0db14fdbc5a496b9bfd7\n",
            "  Installing build dependencies ... \u001b[?25l\u001b[?25hdone\n",
            "  Getting requirements to build wheel ... \u001b[?25l\u001b[?25hdone\n",
            "  Preparing metadata (pyproject.toml) ... \u001b[?25l\u001b[?25hdone\n",
            "Building wheels for collected packages: nvcc4jupyter\n",
            "  Building wheel for nvcc4jupyter (pyproject.toml) ... \u001b[?25l\u001b[?25hdone\n",
            "  Created wheel for nvcc4jupyter: filename=nvcc4jupyter-1.2.1-py3-none-any.whl size=10743 sha256=3a570d3ab74e9051a615aa78d54722c78a69a0c83a1d407fccde14c37a30e96c\n",
            "  Stored in directory: /tmp/pip-ephem-wheel-cache-no73q7sx/wheels/a8/b9/18/23f8ef71ceb0f63297dd1903aedd067e6243a68ea756d6feea\n",
            "Successfully built nvcc4jupyter\n",
            "Installing collected packages: nvcc4jupyter\n",
            "Successfully installed nvcc4jupyter-1.2.1\n"
          ]
        }
      ]
    },
    {
      "cell_type": "markdown",
      "source": [],
      "metadata": {
        "id": "OP7IcCmibl9E"
      }
    },
    {
      "cell_type": "code",
      "source": [
        "!nvidia-smi"
      ],
      "metadata": {
        "colab": {
          "base_uri": "https://localhost:8080/"
        },
        "id": "FTRzqkgZA3xn",
        "outputId": "076982b2-7d26-45dd-f364-e611423ba021"
      },
      "execution_count": 3,
      "outputs": [
        {
          "output_type": "stream",
          "name": "stdout",
          "text": [
            "Mon Oct 21 18:55:19 2024       \n",
            "+---------------------------------------------------------------------------------------+\n",
            "| NVIDIA-SMI 535.104.05             Driver Version: 535.104.05   CUDA Version: 12.2     |\n",
            "|-----------------------------------------+----------------------+----------------------+\n",
            "| GPU  Name                 Persistence-M | Bus-Id        Disp.A | Volatile Uncorr. ECC |\n",
            "| Fan  Temp   Perf          Pwr:Usage/Cap |         Memory-Usage | GPU-Util  Compute M. |\n",
            "|                                         |                      |               MIG M. |\n",
            "|=========================================+======================+======================|\n",
            "|   0  Tesla T4                       Off | 00000000:00:04.0 Off |                    0 |\n",
            "| N/A   59C    P8              12W /  70W |      0MiB / 15360MiB |      0%      Default |\n",
            "|                                         |                      |                  N/A |\n",
            "+-----------------------------------------+----------------------+----------------------+\n",
            "                                                                                         \n",
            "+---------------------------------------------------------------------------------------+\n",
            "| Processes:                                                                            |\n",
            "|  GPU   GI   CI        PID   Type   Process name                            GPU Memory |\n",
            "|        ID   ID                                                             Usage      |\n",
            "|=======================================================================================|\n",
            "|  No running processes found                                                           |\n",
            "+---------------------------------------------------------------------------------------+\n"
          ]
        }
      ]
    },
    {
      "cell_type": "code",
      "source": [
        "!wget \"https://raw.githubusercontent.com/arrondavide/HPC/refs/heads/main/Resources/CryptForCuda.c\""
      ],
      "metadata": {
        "colab": {
          "base_uri": "https://localhost:8080/"
        },
        "id": "iJ3eKlZiPkOi",
        "outputId": "47dadb38-9eaa-4d48-8e28-e11c498712fe"
      },
      "execution_count": 4,
      "outputs": [
        {
          "output_type": "stream",
          "name": "stdout",
          "text": [
            "--2024-10-21 18:55:30--  https://raw.githubusercontent.com/arrondavide/HPC/refs/heads/main/Resources/CryptForCuda.c\n",
            "Resolving raw.githubusercontent.com (raw.githubusercontent.com)... 185.199.108.133, 185.199.109.133, 185.199.110.133, ...\n",
            "Connecting to raw.githubusercontent.com (raw.githubusercontent.com)|185.199.108.133|:443... connected.\n",
            "HTTP request sent, awaiting response... 200 OK\n",
            "Length: 1642 (1.6K) [text/plain]\n",
            "Saving to: ‘CryptForCuda.c’\n",
            "\n",
            "\rCryptForCuda.c        0%[                    ]       0  --.-KB/s               \rCryptForCuda.c      100%[===================>]   1.60K  --.-KB/s    in 0s      \n",
            "\n",
            "2024-10-21 18:55:30 (35.2 MB/s) - ‘CryptForCuda.c’ saved [1642/1642]\n",
            "\n"
          ]
        }
      ]
    },
    {
      "cell_type": "markdown",
      "source": [
        "Encryption happens below"
      ],
      "metadata": {
        "id": "R3iD-k5ua71N"
      }
    },
    {
      "cell_type": "code",
      "source": [
        "# Save the code into a .cu file\n",
        "%%writefile encrypt.cu\n",
        "#include <stdio.h>\n",
        "#include <stdlib.h>\n",
        "\n",
        "__device__ void copyString(char* dest, const char* src, int length) {\n",
        "    for (int i = 0; i < length; i++) {\n",
        "        dest[i] = src[i];\n",
        "    }\n",
        "    dest[length] = '\\0'; // Null terminate the string\n",
        "}\n",
        "\n",
        "__device__ char* cudaCrypt(const char* rawPassword) {\n",
        "    static char newPassword[11]; // Use static as a local pointer should not be returned\n",
        "\n",
        "    newPassword[0] = rawPassword[0] + 2;\n",
        "    newPassword[1] = rawPassword[0] - 2;\n",
        "    newPassword[2] = rawPassword[0] + 1;\n",
        "    newPassword[3] = rawPassword[1] + 3;\n",
        "    newPassword[4] = rawPassword[1] - 3;\n",
        "    newPassword[5] = rawPassword[1] - 1;\n",
        "    newPassword[6] = rawPassword[2] + 2;\n",
        "    newPassword[7] = rawPassword[2] - 2;\n",
        "    newPassword[8] = rawPassword[3] + 4;\n",
        "    newPassword[9] = rawPassword[3] - 4;\n",
        "    newPassword[10] = '\\0';\n",
        "\n",
        "    for (int i = 0; i < 10; i++) {\n",
        "        if (i >= 0 && i < 6) { // Checking all lower case letter limits\n",
        "            if (newPassword[i] > 122) {\n",
        "                newPassword[i] = (newPassword[i] - 122) + 97;\n",
        "            } else if (newPassword[i] < 97) {\n",
        "                newPassword[i] = (97 - newPassword[i]) + 97;\n",
        "            }\n",
        "        } else { // Checking number section\n",
        "            if (newPassword[i] > 57) {\n",
        "                newPassword[i] = (newPassword[i] - 57) + 48;\n",
        "            } else if (newPassword[i] < 48) {\n",
        "                newPassword[i] = (48 - newPassword[i]) + 48;\n",
        "            }\n",
        "        }\n",
        "    }\n",
        "\n",
        "    return newPassword;\n",
        "}\n",
        "\n",
        "__global__ void encryptPasswords(const char* rawPasswords, char* encryptedPasswords, int numPasswords) {\n",
        "    int idx = blockIdx.x * blockDim.x + threadIdx.x;\n",
        "\n",
        "    if (idx < numPasswords) {\n",
        "        char localRaw[5]; // To hold the password including null terminator\n",
        "        for (int i = 0; i < 4; i++) {\n",
        "            localRaw[i] = rawPasswords[idx * 4 + i];\n",
        "        }\n",
        "        localRaw[4] = '\\0'; // Null terminate the string\n",
        "\n",
        "        char* encryptedPass = cudaCrypt(localRaw);\n",
        "\n",
        "        // Copy the encrypted password to the output array\n",
        "        for (int j = 0; j < 11; j++) {\n",
        "            encryptedPasswords[idx * 11 + j] = encryptedPass[j];\n",
        "        }\n",
        "    }\n",
        "}\n",
        "\n",
        "int main() {\n",
        "    const int numPasswords = 1; // Number of passwords to encrypt\n",
        "    const int passwordLength = 4; // Length of each password\n",
        "    const int encryptedLength = 11; // Length of each encrypted password\n",
        "\n",
        "    // Allocate host memory for passwords with enough space for null terminator\n",
        "    char* h_rawPasswords = (char*)malloc(numPasswords * (passwordLength + 1) * sizeof(char)); // Allocating size for \"hp93\" + '\\0'\n",
        "    char* h_encryptedPasswords = (char*)malloc(numPasswords * encryptedLength * sizeof(char));\n",
        "\n",
        "    // Initialize the input password\n",
        "    strcpy(h_rawPasswords, \"hp93\");\n",
        "\n",
        "    // Allocate device memory\n",
        "    char* d_rawPasswords;\n",
        "    char* d_encryptedPasswords;\n",
        "\n",
        "    cudaMalloc((void**)&d_rawPasswords, numPasswords * (passwordLength + 1) * sizeof(char));\n",
        "    cudaMalloc((void**)&d_encryptedPasswords, numPasswords * encryptedLength * sizeof(char));\n",
        "\n",
        "    // Copy data from host to device\n",
        "    cudaMemcpy(d_rawPasswords, h_rawPasswords, numPasswords * (passwordLength + 1) * sizeof(char), cudaMemcpyHostToDevice);\n",
        "\n",
        "    // Launch kernel with one block and one thread per password\n",
        "    encryptPasswords<<<1, numPasswords>>>(d_rawPasswords, d_encryptedPasswords, numPasswords);\n",
        "\n",
        "    // Copy encrypted passwords back to host\n",
        "    cudaMemcpy(h_encryptedPasswords, d_encryptedPasswords, numPasswords * encryptedLength * sizeof(char), cudaMemcpyDeviceToHost);\n",
        "\n",
        "    // Print the encrypted password\n",
        "    printf(\"Encrypted Password: %s\\n\", h_encryptedPasswords);\n",
        "\n",
        "    // Free device memory\n",
        "    cudaFree(d_rawPasswords);\n",
        "    cudaFree(d_encryptedPasswords);\n",
        "\n",
        "    // Free host memory\n",
        "    free(h_rawPasswords);\n",
        "    free(h_encryptedPasswords);\n",
        "\n",
        "    return 0;\n",
        "}"
      ],
      "metadata": {
        "colab": {
          "base_uri": "https://localhost:8080/"
        },
        "id": "JbbXyJP-RYVp",
        "outputId": "f002e871-1c2f-4cad-ee8a-5bf2ad492283"
      },
      "execution_count": 5,
      "outputs": [
        {
          "output_type": "stream",
          "name": "stdout",
          "text": [
            "Writing encrypt.cu\n"
          ]
        }
      ]
    },
    {
      "cell_type": "code",
      "source": [
        "!nvcc encrypt.cu -o encrypt\n",
        "!./encrypt"
      ],
      "metadata": {
        "colab": {
          "base_uri": "https://localhost:8080/"
        },
        "id": "ZLC5qJTFRk0B",
        "outputId": "7c93a8d7-0bc0-47c2-b2c7-1f1877378787"
      },
      "execution_count": 6,
      "outputs": [
        {
          "output_type": "stream",
          "name": "stdout",
          "text": [
            "Encrypted Password: jfismo2771\n"
          ]
        }
      ]
    },
    {
      "cell_type": "markdown",
      "source": [
        "The Encrypted password value is seen on above"
      ],
      "metadata": {
        "id": "SRHkjOhmbDDl"
      }
    },
    {
      "cell_type": "code",
      "source": [
        "# Save the code into a .cu file\n",
        "%%writefile password_crack.cu\n",
        "#include <stdio.h>\n",
        "#include <stdlib.h>\n",
        "#include <string.h>\n",
        "\n",
        "#define MAX_PASSWORD_LEN 11\n",
        "#define BLOCK_SIZE 256\n",
        "#define GRID_SIZE 256\n",
        "\n",
        "__device__ char* CudaCrypt(char* rawPassword) {\n",
        "    char* newPassword = (char*)malloc(sizeof(char) * 11);\n",
        "\n",
        "    newPassword[0] = rawPassword[0] + 2;\n",
        "    newPassword[1] = rawPassword[0] - 2;\n",
        "    newPassword[2] = rawPassword[0] + 1;\n",
        "    newPassword[3] = rawPassword[1] + 3;\n",
        "    newPassword[4] = rawPassword[1] - 3;\n",
        "    newPassword[5] = rawPassword[1] - 1;\n",
        "    newPassword[6] = rawPassword[2] + 2;\n",
        "    newPassword[7] = rawPassword[2] - 2;\n",
        "    newPassword[8] = rawPassword[3] + 4;\n",
        "    newPassword[9] = rawPassword[3] - 4;\n",
        "    newPassword[10] = '\\0';\n",
        "\n",
        "    for(int i = 0; i < 10; i++) {\n",
        "        if(i >= 0 && i < 6) {\n",
        "            if(newPassword[i] > 122) {\n",
        "                newPassword[i] = (newPassword[i] - 122) + 97;\n",
        "            } else if(newPassword[i] < 97) {\n",
        "                newPassword[i] = (97 - newPassword[i]) + 97;\n",
        "            }\n",
        "        } else {\n",
        "            if(newPassword[i] > 57) {\n",
        "                newPassword[i] = (newPassword[i] - 57) + 48;\n",
        "            } else if(newPassword[i] < 48) {\n",
        "                newPassword[i] = (48 - newPassword[i]) + 48;\n",
        "            }\n",
        "        }\n",
        "    }\n",
        "    return newPassword;\n",
        "}\n",
        "\n",
        "__device__ int comparePasswords(char* generated, char* target) {\n",
        "    for (int i = 0; i < MAX_PASSWORD_LEN - 1; i++) {\n",
        "        if (generated[i] != target[i]) {\n",
        "            return 0;\n",
        "        }\n",
        "    }\n",
        "    return 1;\n",
        "}\n",
        "\n",
        "__global__ void crack(char* target, char* result, int* found) {\n",
        "    int idx = blockIdx.x * blockDim.x + threadIdx.x;\n",
        "    int idy = blockIdx.y * blockDim.y + threadIdx.y;\n",
        "    int idz = blockIdx.z * blockDim.z + threadIdx.z;\n",
        "\n",
        "    if (*found) return;\n",
        "\n",
        "    char attempt[5];\n",
        "    attempt[0] = 'a' + idx % 26;\n",
        "    attempt[1] = 'a' + idy % 26;\n",
        "    attempt[2] = '0' + idz / 10;\n",
        "    attempt[3] = '0' + idz % 10;\n",
        "    attempt[4] = '\\0';\n",
        "\n",
        "    char* encrypted = CudaCrypt(attempt);\n",
        "\n",
        "    if (comparePasswords(encrypted, target)) {\n",
        "        *found = 1;\n",
        "        for (int i = 0; i < 4; i++) {\n",
        "            result[i] = attempt[i];\n",
        "        }\n",
        "        result[4] = '\\0';\n",
        "    }\n",
        "\n",
        "    free(encrypted);\n",
        "}\n",
        "\n",
        "int main(int argc, char** argv) {\n",
        "    if (argc != 2) {\n",
        "        printf(\"Usage: %s <encrypted_password>\\n\", argv[0]);\n",
        "        return 1;\n",
        "    }\n",
        "\n",
        "    char* h_target = argv[1];\n",
        "    char* d_target;\n",
        "    char* d_result;\n",
        "    int* d_found;\n",
        "    char h_result[5];\n",
        "    int h_found = 0;\n",
        "\n",
        "    cudaMalloc((void**)&d_target, MAX_PASSWORD_LEN * sizeof(char));\n",
        "    cudaMalloc((void**)&d_result, 5 * sizeof(char));\n",
        "    cudaMalloc((void**)&d_found, sizeof(int));\n",
        "\n",
        "    cudaMemcpy(d_target, h_target, MAX_PASSWORD_LEN * sizeof(char), cudaMemcpyHostToDevice);\n",
        "    cudaMemcpy(d_found, &h_found, sizeof(int), cudaMemcpyHostToDevice);\n",
        "\n",
        "    dim3 block(8, 8, 4);\n",
        "    dim3 grid(32, 32, 25);\n",
        "\n",
        "    crack<<<grid, block>>>(d_target, d_result, d_found);\n",
        "\n",
        "    cudaDeviceSynchronize();\n",
        "\n",
        "    cudaMemcpy(&h_found, d_found, sizeof(int), cudaMemcpyDeviceToHost);\n",
        "    if (h_found) {\n",
        "        cudaMemcpy(h_result, d_result, 5 * sizeof(char), cudaMemcpyDeviceToHost);\n",
        "        printf(\"Password found: %s\\n\", h_result);\n",
        "    } else {\n",
        "        printf(\"Password not found\\n\");\n",
        "    }\n",
        "\n",
        "    cudaFree(d_target);\n",
        "    cudaFree(d_result);\n",
        "    cudaFree(d_found);\n",
        "\n",
        "    return 0;\n",
        "}"
      ],
      "metadata": {
        "colab": {
          "base_uri": "https://localhost:8080/"
        },
        "id": "irC0jaZvTcW-",
        "outputId": "f90bb541-fb6f-4862-9f77-81c37b0737ce"
      },
      "execution_count": 7,
      "outputs": [
        {
          "output_type": "stream",
          "name": "stdout",
          "text": [
            "Writing password_crack.cu\n"
          ]
        }
      ]
    },
    {
      "cell_type": "markdown",
      "source": [
        "Then here i execute the decrypt code above by give the above generated encrypted password"
      ],
      "metadata": {
        "id": "0wJoM-OfbI6o"
      }
    },
    {
      "cell_type": "markdown",
      "source": [],
      "metadata": {
        "id": "lxLCoPl4PfhR"
      }
    },
    {
      "cell_type": "code",
      "source": [
        "!nvcc -o password_crack password_crack.cu\n",
        "!./password_crack \"jfismo2771\"\n"
      ],
      "metadata": {
        "colab": {
          "base_uri": "https://localhost:8080/"
        },
        "id": "msdw3bHzAgLp",
        "outputId": "60d3aa17-db6b-43cb-9e17-8b27ab6d73bd"
      },
      "execution_count": 8,
      "outputs": [
        {
          "output_type": "stream",
          "name": "stdout",
          "text": [
            "Password found: hp93\n"
          ]
        }
      ]
    }
  ]
}