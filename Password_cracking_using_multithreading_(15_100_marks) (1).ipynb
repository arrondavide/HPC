{
  "nbformat": 4,
  "nbformat_minor": 0,
  "metadata": {
    "colab": {
      "provenance": []
    },
    "kernelspec": {
      "name": "python3",
      "display_name": "Python 3"
    },
    "language_info": {
      "name": "python"
    }
  },
  "cells": [
    {
      "cell_type": "code",
      "execution_count": 1,
      "metadata": {
        "id": "kIlb1hmvdxeQ",
        "colab": {
          "base_uri": "https://localhost:8080/"
        },
        "outputId": "3b210760-76a2-4d9d-c3d8-6ea5767f3f1c"
      },
      "outputs": [
        {
          "output_type": "stream",
          "name": "stdout",
          "text": [
            "\u001b[33m\r0% [Working]\u001b[0m\r            \rGet:1 http://security.ubuntu.com/ubuntu jammy-security InRelease [129 kB]\n",
            "\u001b[33m\r0% [Waiting for headers] [1 InRelease 5,481 B/129 kB 4%] [Connected to cloud.r-\u001b[0m\r                                                                               \rHit:2 http://archive.ubuntu.com/ubuntu jammy InRelease\n",
            "\u001b[33m\r0% [Waiting for headers] [1 InRelease 129 kB/129 kB 100%] [Connected to cloud.r\u001b[0m\r                                                                               \rGet:3 http://archive.ubuntu.com/ubuntu jammy-updates InRelease [128 kB]\n",
            "\r                                                                               \rGet:4 http://archive.ubuntu.com/ubuntu jammy-backports InRelease [127 kB]\n",
            "\r                                                                               \rGet:5 https://cloud.r-project.org/bin/linux/ubuntu jammy-cran40/ InRelease [3,626 B]\n",
            "\r                                                                               \rGet:6 https://developer.download.nvidia.com/compute/cuda/repos/ubuntu2204/x86_64  InRelease [1,581 B]\n",
            "Ign:7 https://r2u.stat.illinois.edu/ubuntu jammy InRelease\n",
            "Get:8 https://r2u.stat.illinois.edu/ubuntu jammy Release [5,713 B]\n",
            "Get:9 https://r2u.stat.illinois.edu/ubuntu jammy Release.gpg [793 B]\n",
            "Hit:10 https://ppa.launchpadcontent.net/deadsnakes/ppa/ubuntu jammy InRelease\n",
            "Hit:11 https://ppa.launchpadcontent.net/graphics-drivers/ppa/ubuntu jammy InRelease\n",
            "Hit:12 https://ppa.launchpadcontent.net/ubuntugis/ppa/ubuntu jammy InRelease\n",
            "Get:13 http://archive.ubuntu.com/ubuntu jammy-updates/main amd64 Packages [2,648 kB]\n",
            "Get:14 http://security.ubuntu.com/ubuntu jammy-security/main amd64 Packages [2,372 kB]\n",
            "Get:15 http://archive.ubuntu.com/ubuntu jammy-updates/universe amd64 Packages [1,450 kB]\n",
            "Get:16 https://developer.download.nvidia.com/compute/cuda/repos/ubuntu2204/x86_64  Packages [1,032 kB]\n",
            "Get:17 https://r2u.stat.illinois.edu/ubuntu jammy/main all Packages [8,403 kB]\n",
            "Get:18 https://r2u.stat.illinois.edu/ubuntu jammy/main amd64 Packages [2,596 kB]\n",
            "Fetched 18.9 MB in 5s (4,053 kB/s)\n",
            "Reading package lists... Done\n",
            "Building dependency tree... Done\n",
            "Reading state information... Done\n",
            "50 packages can be upgraded. Run 'apt list --upgradable' to see them.\n",
            "\u001b[1;33mW: \u001b[0mSkipping acquire of configured file 'main/source/Sources' as repository 'https://r2u.stat.illinois.edu/ubuntu jammy InRelease' does not seem to provide it (sources.list entry misspelt?)\u001b[0m\n",
            "Reading package lists... Done\n",
            "Building dependency tree... Done\n",
            "Reading state information... Done\n",
            "gcc is already the newest version (4:11.2.0-1ubuntu1).\n",
            "gcc set to manually installed.\n",
            "0 upgraded, 0 newly installed, 0 to remove and 50 not upgraded.\n"
          ]
        }
      ],
      "source": [
        "!sudo apt update\n",
        "!sudo apt install gcc\n"
      ]
    },
    {
      "cell_type": "code",
      "source": [
        "# import data from wget\n",
        "!wget \"https://raw.githubusercontent.com/arrondavide/HPC/refs/heads/main/Resources/EncryptSHA512/EncryptSHA512.c\""
      ],
      "metadata": {
        "colab": {
          "base_uri": "https://localhost:8080/"
        },
        "id": "APWNIC4KbpNt",
        "outputId": "032d4469-6778-4ddb-f07c-4e16516c51ea"
      },
      "execution_count": 2,
      "outputs": [
        {
          "output_type": "stream",
          "name": "stdout",
          "text": [
            "--2024-10-21 09:18:20--  https://raw.githubusercontent.com/arrondavide/HPC/refs/heads/main/Resources/EncryptSHA512/EncryptSHA512.c\n",
            "Resolving raw.githubusercontent.com (raw.githubusercontent.com)... 185.199.109.133, 185.199.108.133, 185.199.111.133, ...\n",
            "Connecting to raw.githubusercontent.com (raw.githubusercontent.com)|185.199.109.133|:443... connected.\n",
            "HTTP request sent, awaiting response... 200 OK\n",
            "Length: 214 [text/plain]\n",
            "Saving to: ‘EncryptSHA512.c’\n",
            "\n",
            "EncryptSHA512.c     100%[===================>]     214  --.-KB/s    in 0s      \n",
            "\n",
            "2024-10-21 09:18:20 (3.36 MB/s) - ‘EncryptSHA512.c’ saved [214/214]\n",
            "\n"
          ]
        }
      ]
    },
    {
      "cell_type": "code",
      "source": [
        "!gcc EncryptSHA512.c -o encrypt -lcrypt\n"
      ],
      "metadata": {
        "id": "ReT9tHw7fqfR"
      },
      "execution_count": 3,
      "outputs": []
    },
    {
      "cell_type": "code",
      "source": [
        "!./encrypt AA99"
      ],
      "metadata": {
        "colab": {
          "base_uri": "https://localhost:8080/"
        },
        "id": "yg0ROJ0CgAJh",
        "outputId": "e165e61e-1c84-460c-c10d-be6cb05e4118"
      },
      "execution_count": 4,
      "outputs": [
        {
          "output_type": "stream",
          "name": "stdout",
          "text": [
            "$6$AS$HMEdiidHnxIA3SMWFUSqvm0YoM1MqcPUZhxXhyCW7MERgBEC3kTBN0hZgzrzgbgAfREPvnTAmrTJfGnhOrZWc1\n"
          ]
        }
      ]
    },
    {
      "cell_type": "code",
      "source": [
        "%%writefile CrackAZ99.c\n",
        "#include <stdio.h>\n",
        "#include <string.h>\n",
        "#include <stdlib.h>\n",
        "#include <crypt.h>\n",
        "#include <unistd.h>\n",
        "#include <stdbool.h>\n",
        "\n",
        "int count = 0; // A counter used to track the number of combinations explored so far\n",
        "bool password_found = false; // Flag to indicate if the password has been found\n",
        "\n",
        "void substr(char *dest, char *src, int start, int length) {\n",
        "    memcpy(dest, src + start, length);\n",
        "    *(dest + length) = '\\0';\n",
        "}\n",
        "\n",
        "void crack(char *salt_and_encrypted, int start, int end) {\n",
        "    int x, y, z;\n",
        "    char salt[7];\n",
        "    char plain[7];\n",
        "    char *enc;\n",
        "\n",
        "    substr(salt, salt_and_encrypted, 0, 6);\n",
        "\n",
        "    for (x = 'A'; x <= 'Z'; x++) {\n",
        "        for (y = 'A'; y <= 'Z'; y++) {\n",
        "            for (z = start; z <= end; z++) {\n",
        "                if (password_found) return; // Exit if password is already found\n",
        "\n",
        "                sprintf(plain, \"%c%c%02d\", x, y, z);\n",
        "                enc = (char *)crypt(plain, salt);\n",
        "                count++;\n",
        "                if (strcmp(salt_and_encrypted, enc) == 0) {\n",
        "                    printf(\"#%-8d%s %s\\n\", count, plain, enc);\n",
        "                    password_found = true; // Set the flag to true\n",
        "                    return; // Exit as we found the password\n",
        "                } else {\n",
        "                    printf(\"%-8d%s %s\\n\", count, plain, enc); // When the password is not found\n",
        "                }\n",
        "            }\n",
        "        }\n",
        "    }\n",
        "}\n",
        "\n",
        "int main(int argc, char *argv[]) {\n",
        "    if (argc != 4) {\n",
        "        fprintf(stderr, \"Usage: %s <encrypted_password> <total_combinations> <thread_count>\\n\", argv[0]);\n",
        "        return 1;\n",
        "    }\n",
        "\n",
        "    char *encrypted_password = argv[1];\n",
        "    long long total_combinations = atoll(argv[2]);\n",
        "    int thread_count = atoi(argv[3]);\n",
        "\n",
        "    // Calculate slices\n",
        "    int sliceList[thread_count];\n",
        "    int remainder = total_combinations % thread_count;\n",
        "\n",
        "    // Fill standard slices\n",
        "    for (int i = 0; i < thread_count; i++) {\n",
        "        sliceList[i] = total_combinations / thread_count;\n",
        "    }\n",
        "\n",
        "    // Distribute remainder\n",
        "    for (int j = 0; j < remainder; j++) {\n",
        "        sliceList[j]++;\n",
        "    }\n",
        "\n",
        "    int startList[thread_count];\n",
        "    int endList[thread_count];\n",
        "\n",
        "    for (int k = 0; k < thread_count; k++) {\n",
        "        startList[k] = (k == 0) ? 0 : endList[k - 1] + 1;\n",
        "        endList[k] = startList[k] + sliceList[k] - 1;\n",
        "    }\n",
        "\n",
        "    // Launch threads or processes here\n",
        "    for (int g = 0; g < thread_count; g++) {\n",
        "        printf(\"Thread %d: start = %d  end = %d\\n\", g + 1, startList[g], endList[g]);\n",
        "        crack(encrypted_password, startList[g], endList[g]); // Call crack for each slice\n",
        "        if (password_found) break; // Stop further processing if password is found\n",
        "    }\n",
        "\n",
        "    printf(\"%d solutions explored\\n\", count);\n",
        "\n",
        "    return 0;\n",
        "}"
      ],
      "metadata": {
        "colab": {
          "base_uri": "https://localhost:8080/"
        },
        "id": "lfVuRHxuegSk",
        "outputId": "72dc1010-e407-43ea-8252-980eb47df6a9"
      },
      "execution_count": 5,
      "outputs": [
        {
          "output_type": "stream",
          "name": "stdout",
          "text": [
            "Writing CrackAZ99.c\n"
          ]
        }
      ]
    },
    {
      "cell_type": "code",
      "source": [
        "!gcc -pthread CrackAZ99.c -o crack -lcrypt\n"
      ],
      "metadata": {
        "id": "p5kW9BQ4eiIj"
      },
      "execution_count": 6,
      "outputs": []
    },
    {
      "cell_type": "code",
      "source": [
        "!./crack '$6$AS$HMEdiidHnxIA3SMWFUSqvm0YoM1MqcPUZhxXhyCW7MERgBEC3kTBN0hZgzrzgbgAfREPvnTAmrTJfGnhOrZWc1' 1000 3\n"
      ],
      "metadata": {
        "colab": {
          "base_uri": "https://localhost:8080/"
        },
        "id": "rNHwLDVvfY-G",
        "outputId": "a2fc7e6e-0b36-4f1d-d4c4-8abb161af66b"
      },
      "execution_count": 12,
      "outputs": [
        {
          "output_type": "stream",
          "name": "stdout",
          "text": [
            "Thread 1: start = 0  end = 333\n",
            "1       AA00 $6$AS$wKDMKDtx/s3ILNkNaRNFIM0w81/weD1UZ8daNhbQBXuj8L.7OY4trHnSraeizmFYrMwjlb1uRTPxu20rqhmMn/\n",
            "2       AA01 $6$AS$q8RLKgmlY0mkEfg/qZWj.4t9209zRMtD.eI4ipzNsAVvXDl8Qbj0JUmtt6SyPrwz9dOsjh3t5nGd5BRshe1io0\n",
            "3       AA02 $6$AS$rAyQ4g7amb3ZN0BZ0UAY9s0wGIA2enhNK9jILLs9nYuaVt7Xw9MUsJr4jJq./T3FvYYd9BfH3gNBTykqKVtev.\n",
            "4       AA03 $6$AS$pd1fyoLSlot6m/4YWPqc3jO1kEecXmcAy3WM8uEf2vI0glGDumXtdkihWzv.4KvKHmWrkU/VdnfHaAfMXzK7f0\n",
            "5       AA04 $6$AS$ckgtvppuszJ5Pr/0mp5oBQrl/zsUoWBNyXs.N2OlQOcOptBxa9CLPwdkHsbQU9Ok6nsfixedKHwIjyf4EUQwt1\n",
            "6       AA05 $6$AS$mOUEGkBkxmKR1pej2wqGfgaPcc/sfUS5xaAtWO7b.tsBzRP4a3Hy6AVdcS8KcuFBl/yKYKy.tWrNCqiHht9ki0\n",
            "7       AA06 $6$AS$1.rleaK1WbJq.mDdM9RhVQ1/bRvDsfRhedARlbRnjjECbdn8sPxZqYwxYfGhnthC4Lo3hFAZfPAyCR3zafGEM0\n",
            "8       AA07 $6$AS$zub4C8x8vm8m8SO5/V/Mre8ov2QZ9la6bntPZ0hBTlzlhlOs/Z6bfcJJoUVIiP30w1kMZwwFcMP4eWGBpj1Lg/\n",
            "9       AA08 $6$AS$2s9lI1PNYlJWI8cEPvmhFCZpTEZgJ1GgSJveFlDKRdwLrOl3m8QhYXzlJ2jQDH8aIDY9j7Ps/SxJi0vC0Cq28/\n",
            "10      AA09 $6$AS$Xha4DBq49UdiWmxU5qbqwxHOOxV8aMg3ml9aaa9OO/i2rHrLgpE8zRIxQsOUa3VkCvg2PSz.JvFwLR0erzsOe1\n",
            "11      AA10 $6$AS$KDz2YK3J483TubP5vGxy79Xa1cmV8e75Asy0ekjoV7HtuS7EAjnH.xWmVng0IhoIg12JEzlnHFcu9UzS1tbXk1\n",
            "12      AA11 $6$AS$9IwGTn5WbHSalUs4ba3JbOfOUX/v1yD71Z4M2F6Yusz5k2WQEOFxqLIY80tudGtcFttqr/Zq6RIPjHkl/t2Pp1\n",
            "13      AA12 $6$AS$qYED/fL4D6y3V2etSYy0UNd.yU.8IAdqtHEhhI/UJhRJ0JB0kw5Q1ldzmKewzmCgSpOttqEN6.yUPy7u.1v2M1\n",
            "14      AA13 $6$AS$4L1nKFhLPYMbidITUzpNWqo.l9w9mnkQuJjPpHv7uZ8KbqWRs/Ae4rTxkmc2i3J7K1k3.r3nSmP3hiYPwBxVB0\n",
            "15      AA14 $6$AS$t7Fo182e7oabr.S5X4hqUZzOQKa/c1a/HfBCklZrwca8Dgx87etXcMX5pBRybxgpY9GO0MN3c7U/s4Q6gFcgc0\n",
            "16      AA15 $6$AS$Dlcqd5ZUEf/SZ0UM7JsbFe0T75s3/BlvyuOc.SedOsmKrzKUuGqkJsFZNrfQitoEvDdldVF7gOsXA8HGZFPPI.\n",
            "17      AA16 $6$AS$Gpvt5ZY60uSKP4UhuLCsJ/yDsiUgNxcVtv46i8YkltMnGH1PldX8dBUBpXU9U1cmiBe5hk6EmO0A4g/dSLYKX/\n",
            "18      AA17 $6$AS$3YvOwcmxg2hT4IDryjUXIjPdHNAw91VVQ3qReMoQJepqTWFMKRTzrigdhZsZLHMOjSgRtU0KtsJ4g5RrcpxqV1\n",
            "19      AA18 $6$AS$FZ5Vy2T5MQu28fq8ClN4s9ezJjGQY9b3BR3UjpnTSvlXLjeNLP3gN4.I71pvePlU.LQiu0/XD52ltS1x1DFND0\n",
            "20      AA19 $6$AS$8xM7HmTPFlWUL9xcpph3y.U1ULA/aVkYJgZEBKjpKoBqxZWkJ3TAL.Gk50IGQEt8jsHPzeYsUhV/L5zficqiX1\n",
            "21      AA20 $6$AS$n7VzPW75l.da/2FQ6ft3Qa9x38bvaxevVb2HQBSM.G3mua/E2uv63NeQiChPW8YPuBFq4s5./yfEZgr//JUpL0\n",
            "22      AA21 $6$AS$23F9Cmg4aREmKQ/pH3biP54ldxJPRFV9u5/xV2YW3TdB7yHOzwsq5HAVGJjGYxof0Nd.W6LTs7OKv0Dtjkhw2/\n",
            "23      AA22 $6$AS$YmFcfeFmdHR2FrCc29qEH2.3uv9kuXkvqdd6.btvhxmSIMBsrFKDIs6ZmrmjNImhcnmLvyjSXvc7Y16DpLYBK1\n",
            "24      AA23 $6$AS$sn4q2IlUambR0ew3uKOHGo5mFtH.0ZNzNymEc0OI8QBKI9.Itm308DJtW/RWpygAMqPvrmiUt4VrsxiS79Fah0\n",
            "25      AA24 $6$AS$Pt1Fi.uDvF/vgz0eeXgJu6c7oB44jCSYCWIwoXo6vjBu.Clg/svFcTQfHvuUeha71.oKOo/GVo8lrvQAT0qr3/\n",
            "26      AA25 $6$AS$4j4O1DGZfwpvb7eLvtb2umYJC4j4MvLMLuGEYLY/e4hJxc26lUgeCVvkJRpjl0MWLgKS0J7XwMOOhPAjd5Qx7/\n",
            "27      AA26 $6$AS$pNHwY3aFRsRKALvDG3oDYAxqpz5ql40lFW16M2LUNGCwpmuQ3AvdHPM5YZaPlAbgJwBTrntqVtQF/YTvVadMA/\n",
            "28      AA27 $6$AS$A9zXBeJ19VB5Vf3VooQ/89PnTndSFf8T4mzcXLqVC.ZqlRXzgO.Wwt9ci3kYZjNOErS7yb.mcreFCmBkHCpow/\n",
            "29      AA28 $6$AS$lPbqLLJT82DThIGZvwKA7y0cXs0npQpZ7cQTEhi953B5mFxu5JfrOyMyz7V3w5dcFyKFnDYDemFYURUG41GSJ.\n",
            "30      AA29 $6$AS$6s36xJa.PWSktODmidRzEMIGBBzW9SGtNJ7iM/q8lOC8to8D/B5qWT5WllDHW7oJxU0vnCQ/hzPyowztGMUYX1\n",
            "31      AA30 $6$AS$yGHhlarX/RBNB1f.NFeRA0ix7FlVyZJJwetOju5FM/ar97rvFT7vhov7PAc5lMR8w1ekn.jv82PxAD0gScuEt1\n",
            "32      AA31 $6$AS$QAb8LNbXgCqhj/R9lHjjPXn0dGgMKuYJWZriRbccze.ENyiE9HQRRvs1ImAGmDUDyfm.Ki8Ody04EZBIFHGa3/\n",
            "33      AA32 $6$AS$bWyei/jRw.HvrsyBHLvmt.C6.BZD0KnoWGm3xfdj3BVUW9tClUmyYVLQa5Fcd0Abh8asve8ylWvivcK4aXXw1.\n",
            "34      AA33 $6$AS$n8RQGhvBTRYAQueXnmDVPi3ZVGbsOZivS99a9fnirHbPX46y99iqD5e0/cZ52ySH09ikkxOzXNKXoQvTc5Qk61\n",
            "35      AA34 $6$AS$oS5jqoJdzCZKMcrPNQoV2//avcYkTP7Zs2Mbe8BpAc06oQDkLJgoffhKFEYKieBCVsjJd7reD0iXrGZ2WoOsF/\n",
            "36      AA35 $6$AS$WJgjzaAX.Kl/ByVexvGkFh145ejMBBx4Xm80Vx1eO21LcPi1wCzCkZ1aDESi1R4YRkDI9buj5vkI5M2/WuI.71\n",
            "37      AA36 $6$AS$P8/aH8m/Nl.Y508Mi6Ioq3Gf7BbgCr6Sv1ebVd0TMlH35tA7Dqt4/ETel6fV4o7NxStJDQ9dzzPk7yD5kiQG20\n",
            "38      AA37 $6$AS$/j9cn0/3SAJDVe5U38C.cMOJXQo.9qWDmWeDURjSaFH.3zpSOx8Bq0X8tBvk3tAch70/dUr8FXkiqhnDsvibl.\n",
            "39      AA38 $6$AS$HtqAMdco55v8l4nsj4TGcTT1FfOd2odPrTahhXTavW7WZwt6MOyRG8Khgo0Zw.aN6sT3SxR.zqGhyPdAeu8901\n",
            "40      AA39 $6$AS$2lUJq1MPg6Uthv0tcWQRf9bk10w3k4SxEhcfqZmHSI5dfP04RvEYSh1jU/cjeTchZS2l1lrzWD3eCjm0tcblW/\n",
            "41      AA40 $6$AS$7PE6Y4B/k4iSixcclKyVwj3nbJf8AUbQUA6q3Y4T6vpzCebGIxBBwqjKK7j5TlzuoBPTMpVvL34HwRNbSBXxf.\n",
            "42      AA41 $6$AS$lRupcKmhOmPlcZLP2mrLkbZ76Cvezp91NjH3B0edffAWX15UnkfSgSI6C/MdRoUVnwPHFwlz9Gx1gPUfTd03l/\n",
            "43      AA42 $6$AS$ZtNRjdaW24gd78VmQJz1xgVgr.IteXI7kqU3g3v/4jkxp/XLIQBGJHPKSpBshjkW8kPpDsUgraSWHZdt89s2A0\n",
            "44      AA43 $6$AS$HrqIJ6Z3NWs.psoE2TibNXRS4S3.HwUA2hjVAxD4DuEAAu6ELoZ//1YWi6gc2bqvpCRrPLlTW2wjjNLV7uUsl0\n",
            "45      AA44 $6$AS$YtzBYSInDQQJaFIxkJOqe9apQ9jLwxREU2pFW0YNeDh5f2oYp.kfBRinoXGb7/QWGu5irdJ.B3mscnNfRF7Dl/\n",
            "46      AA45 $6$AS$1EGIe1QBiQP38K.P36.INvxs/hQ2u/EslELFgfpWOfZKd6F0rvSOmLoqR4iZo3BgAqTG4JenAPybq2/B5FgNk.\n",
            "47      AA46 $6$AS$AAWIR//AHphCqmqh9mCAlC81XudNgBgk/JFp8/N.QOGVVbC53xWUx2IL78wDDnQ6.TJ6cvtHVUmdlCe/ZhUYv.\n",
            "48      AA47 $6$AS$fKWHeoX8zBsp9/Ww.FiYLEPMMeTZrPiuvcioFO9ADri.CivuoJ9.4ZbgfYpU6dDsW0o90dhfHrTx8G6mrQrYu0\n",
            "49      AA48 $6$AS$0rOR1XedayKDAkohrO0J97VEgemxKbdY/f9No6fmFnY4.Cj1rZ/6hecDFeHsoJ/6xPwIYkNT0Wr8kEzYrc.gr/\n",
            "50      AA49 $6$AS$14cotcNdO4cIYD3T1GJhm/PpaVnri2kiGElP50c7IJ6jpx58htNs673M3G6H11iFJBIfws4GH38a3wHKNK0Qw.\n",
            "51      AA50 $6$AS$LerhojOkh7W.e6gTHF2QfWobPQVvqHBeV3gg8865uLQ/1tsMFX/VkTtAyCXIqC.xc6S2mpPiDvUK.6tgXqm2p1\n",
            "52      AA51 $6$AS$wVTs5DxnjlAWCnGRr4hFpQKQ7BuiwQsbkXqTITDPWmKlbO4ZJ6Xj8Y8/iKVwvk9T8B3sn6NvpUwa/yhZfVtra/\n",
            "53      AA52 $6$AS$CIVj5PIppqfFsWXImqaA29xRKPP/wmUioLJ6gf3q.gA3bd5jC8r.GbCWkUZ2agofGhK45axjMQdWmMQjgIjgf/\n",
            "54      AA53 $6$AS$bZqIGmHovdVBLJXzsiAi2pnJMNbIEnTa9qrhWWQrwW.G/WGyh/3lKnCrWX.bqnNo5Xyxi32F81bQM3aLosJ/J.\n",
            "55      AA54 $6$AS$3axvFt7.7uj6orpviU3yXj9mQAuwsFoM.Yebd01zGdQJF2x.3fQ2mb3pNdMsTSCI4bLtjeOjQ.KiUZ6a.lZbV0\n",
            "56      AA55 $6$AS$djb519tszEB0jiTssC84CtrlQhc0TsHj.qvrC74nYegybXek5oKIu3MqoUpTVaVi3HVqhg5h0xnL57JVJbwpA1\n",
            "57      AA56 $6$AS$Wg27In/sDMRAKqiy7Dy35q2OcTo334m0p8g3XrPcSideaBG1bWj7.clR0.5UbwL.4ZR19Ima1dCNYmeVPcapZ.\n",
            "58      AA57 $6$AS$1ubtwpq29JgyR3/CPXXpDtPm0nPUp3cLgqyGKGw1PmHoiIW4CSIP2rNqucIdiEe02RcvFpUzD8c5C4Ro9SeVv0\n",
            "59      AA58 $6$AS$BBI8vwPV0pU8vZb8gwh4qShCHxgGNh7XmxdXetEuFFJwPnmfdAQePDdNgEnesYhfQ19Z9dlybLPq.SYLKS/Qw/\n",
            "60      AA59 $6$AS$sJqXAavjsHMz7uul.G3p7qGFLHUCieJDOAlXMC2QsZzTcNJcjCsf.xJLlT3YVy3jBx0FuxV.SZjeMiRfU0Rl/1\n",
            "61      AA60 $6$AS$DNbHcUMpgJ04rnk84Oq45B8BkN6whtVNsuXaw6zt8V0k5yxvcbjs8FhxWDAJ4cxcEkJexl.FbpA5S3dr1a9s70\n",
            "62      AA61 $6$AS$M8bIGzC3uDosnHWEk4GYXNUI6mBJPhVbXnBw/O8pszuvV.2gdr9aDYs/jrNJPepk916g8JUpRKC.jF1GRL.1w.\n",
            "63      AA62 $6$AS$/Wk52vWP5J0IkN2axbabOd9sXX1v25aIH9jw4T24KWL/oP/dsbIeP0B3VQW7tyamDX1G/yROreL2vDucFxSle0\n",
            "64      AA63 $6$AS$8i41oJFMYMH/OY5wmhzEFN5Rp43yZG0zRJQq2vnMbrjVME5.MAruJz4PG9kSYBiI1Y1189DuTLE0Z7oRSGjGq/\n",
            "65      AA64 $6$AS$3vqK8og3tFH3rgoj1qD4.5goVh0l.5ubMJZUJnbOqivBWGt5RF0slLaZuHL3jd6vT5r4g9h9bRzl/lJext7HL/\n",
            "66      AA65 $6$AS$3ivWn600vCp0S0PLX6O.CorcQseS867L3VJfW5J75zuJxDhd2mGsVXFpB19yBeaZShk/5ynK.ipaOPa1xl9Rg/\n",
            "67      AA66 $6$AS$rw4rhGSim9f9U4UwNTayjRFgyIR.G5ZhAJL.SUzyDH1ufj.dC4nXSe98nw/SbgVR/OzXPL/YsdsZK67.h93hU0\n",
            "68      AA67 $6$AS$hxEJ8qZs/L2Xz/M0JYiyEUu4HbgvxJKfW1xtVwQrPpiStf2X1ttIT3shQlHZWQUguDlF16iPg1ezSZij6EAJc0\n",
            "69      AA68 $6$AS$lGDfe7YyKSS0BD4MBfiI.7LZrxg.mCozdoATH9.6zLPygv2o24JfmNDoDIv7APxKfYlMTB57vvgXJifDCnfma.\n",
            "70      AA69 $6$AS$X/ohgGiyqvcl7ODpuXjKTL9OG6gZAaP2RQyD32qFzVneMrhfB/G9f6POl9FY1m/ERvWEfm9GvrnjWwjYu2AXH.\n",
            "71      AA70 $6$AS$/gM7ExVbMnzu0./BO4qafzzrZG0eD3vpr.dNr/RhMcPQ92LGIumBwM9dXr7PDrLyV8CBprLzsudfc3HFlyxQE1\n",
            "72      AA71 $6$AS$OKYk96OWNb0aWE16tFeb4haJD4ivJr5mC9wFhs86uvVefNybxK0U/WvON2G3hSwulAU/.8b0jTfb8dYQ6d3TA/\n",
            "73      AA72 $6$AS$COZOWEq6LpabjCaWSlPnuO63Xb7iaJt.ZHDIPweKiu74scaso5AUywWw4QaGnDDyGE4PeAye0AMQhgDURF4bI.\n",
            "74      AA73 $6$AS$dw1bHO5VKi.phsEYVjQnxIIHYuYfEvlIzwJlESqbhbZvgJtnpfnlSgapDGlfcHjQCB0ehO9U/GuiXs3AcGeyX0\n",
            "75      AA74 $6$AS$eVrbYSFGMCLh/.FcBs7adkm2wkSfiDP7Ui0HCD4s1u27x7DVkX6Zb2Ajcj2eIBGbMkA9/swVN9X7Hg3HE4V980\n",
            "76      AA75 $6$AS$.ASl9YZKa69SLFlh.IEww2CrdysXpofoRC.dtCyvGN0POLcuFVS9CxGcC2zSB7g6fJas74eo9fs8XoX.fju2m.\n",
            "77      AA76 $6$AS$pet3uPB7kIy5tnGyPIRuagrxFLO3Q1xfcc.14zUTrbvqwIaD5FtPMpG9OKvkNcVVaTA6HWep1g1EbQ9Ph0oKD/\n",
            "78      AA77 $6$AS$WTYWxTGMICTz2bSOUBSiVFD96e4HOYG3uGo7YV8WDoAm16tWlvYdIFr8kvDX4DNAS4RY1DNhnp8TWULwxMmd10\n",
            "79      AA78 $6$AS$wC96Ugf7WFE2GxWadWI7oyq5PwpuoYVNLMNyX9rzYZTTqP8FM4cX8FhP6DMOCY3qi2tl6IKC86zOCiAUX1PoC0\n",
            "80      AA79 $6$AS$Nwl8Eaf9aflYoFC8jh8HqYK991Wadj.lGN6FWRoFHv2mOq.RGW0opTAO3caaReZefxYltgIhi4At9vN/tugHs.\n",
            "81      AA80 $6$AS$qQ7CqSf/WuVg4Cxncj44NAkFmUsrpqqo2If/uO9xW8Z.UKtxxkeqzfJVtPXmu2Vu/PM/hYphWOdXUrJ3YMzsx.\n",
            "82      AA81 $6$AS$8BpbmKXFQ2hXPTqZ3iG8ogLLGdMMQuEbbKXj3/zp8OsJikrZjbR4JBwYMI1TAwCRNjCP8kJMpnvXeWF6nJ9fa.\n",
            "83      AA82 $6$AS$JTNkjKPeDTqZRfH3FIxo1rQWAbfXo1tVjq5uOIj0sj5FQ6ijvIqz/06USHTbl4Btd/Qv04TllZIqiqL7i.FJl.\n",
            "84      AA83 $6$AS$Ugx04My6U8wg8Mgme8ZbjvmzsOzibLyhMLqFxPBn8IyxWWmjMUXWM1bG004.JHH84/4bE6so1U6dJGYoAVur/1\n",
            "85      AA84 $6$AS$RtMmsYf4IvO9Mebf9FHD5kgivtprQzbhhuhqiBmKxl9Vfd3MMJfJP4WYtLvr967bORBQ1mCqngivyTMFntDZY0\n",
            "86      AA85 $6$AS$YUb42tS0im9gvFF8.ZbXPHvbEeH.gOD0aGd1GvHrghJHossw4X82N/F/ybaIiw/QEsZ4m0iPWVDnv9UG0pqpg1\n",
            "87      AA86 $6$AS$xIaQSdeJ76JSA01lCRkqICBE1WkyR7jsANDZnp.bNs4DGSy5SFfEF8sQMpov5L2tYhTx0x2Oex9AxC/Or8J8N/\n",
            "88      AA87 $6$AS$Ya6oR4NLXmrG48iK6LGTjrGoInHwkp6depNbQ9X4v73RJw.w1VvQQTyEazGPAaLg4qEmgIBO3qBCwyt5J24.z.\n",
            "89      AA88 $6$AS$k7wr/vls3jeygID8KfsPOea6hkqhtm2rz.5XNM.UCXqxAdQLjZ.eCrSALfqtecOf9BWVCqegjqOd3a.v11iNE/\n",
            "90      AA89 $6$AS$n78WRTYvw18euCPdsY/xmh98LzA7lxS2G1A5/3TgxVV9hiOCkolsn9enuBt/Aw1xdDFLz3lWsAW/k0/xf0Ha5/\n",
            "91      AA90 $6$AS$2rPHEW3v0Fg2B0dkyhkVsC7Qj45Xxu6R6DnzX8iWvmSr4CD8p1LwyGwTgSV/gNjR7iGP8d5E8Ci71gf3etXgh1\n",
            "92      AA91 $6$AS$wCsYOb3VmR276XmJO0LDZujxEgUUqHfJ14Z5OLGbLrcEDFh.KEJngMrb2z9wCOcEnUe3.ZUq23gdfxVxQgynr0\n",
            "93      AA92 $6$AS$eHSHV2Ck7agAYPy796j9KmFDFmRFdkIV8.FVrF8D9p7n7sdao7XR2iNRHzYVIDUt4gb6NuKaUs5XIs5tLrjKV0\n",
            "94      AA93 $6$AS$Vofz54iXtp2D2qePUO4Ryyerfhreiv.Qo8SV2s0aJAbngzUTH7BjZFEWXFcbdLG7dXKNNNyNOl5sLXapgK91L1\n",
            "95      AA94 $6$AS$dTFk5kljllmxmEKgbYjzKnBICZF9bDeTv1VTYLgaYaqMOCbS6eBM21KybG9CRIqzYQxvbRwOVNhWiyfK6NPEl1\n",
            "96      AA95 $6$AS$FmV25tGoNWT1AhQP2Jv0eoRGGSpm9rBDRbWo..A3EO/K6qlNjFvgXGX/HnDBe8YLOeS7I.AvAvntpscXjYS6G/\n",
            "97      AA96 $6$AS$bvUwF07zLvo4AmLdkX3DUQtnNJfUsgAPTeo.mav6ctODqoJguo/DvSBmEpWFUcPJUFLM2J17D8i83PKCQmpIp.\n",
            "98      AA97 $6$AS$Yx03lWQn/IMOBHpIz3czYQDdWASTJm9PidGMhHpqVsgyIX2LF00JnfPu5zrh5LpZFY8b.5scGtrRt4jaKpfHG.\n",
            "99      AA98 $6$AS$ecTOR9.HseD9ypMv7k2Rfd1cw8yKQASSYDr6yOYxN2hH5Q.YEgjtWOpLX0FqCCaKoAmtYNyJl/Ys2l4610yro1\n",
            "#100     AA99 $6$AS$HMEdiidHnxIA3SMWFUSqvm0YoM1MqcPUZhxXhyCW7MERgBEC3kTBN0hZgzrzgbgAfREPvnTAmrTJfGnhOrZWc1\n",
            "100 solutions explored\n"
          ]
        }
      ]
    }
  ]
}